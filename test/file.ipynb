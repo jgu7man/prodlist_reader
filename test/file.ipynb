{
 "metadata": {
  "language_info": {
   "codemirror_mode": {
    "name": "ipython",
    "version": 3
   },
   "file_extension": ".py",
   "mimetype": "text/x-python",
   "name": "python",
   "nbconvert_exporter": "python",
   "pygments_lexer": "ipython3",
   "version": "3.8.5-final"
  },
  "orig_nbformat": 2,
  "kernelspec": {
   "name": "python3",
   "display_name": "Python 3",
   "language": "python"
  }
 },
 "nbformat": 4,
 "nbformat_minor": 2,
 "cells": [
  {
   "cell_type": "code",
   "execution_count": 9,
   "metadata": {},
   "outputs": [
    {
     "output_type": "stream",
     "name": "stdout",
     "text": [
      "(5, 13)\n"
     ]
    }
   ],
   "source": [
    "from IPython.core.display import display\n",
    "import pandas as pd\n",
    "import json\n",
    "\n",
    "df = pd.read_csv(\"existencia feb 11-02-2021.csv\",  decimal=\".\", header=0, thousands=r\",\")\n",
    "df.fillna(value=0, inplace=True)\n",
    "# display(type(df.columns))\n",
    "df.columns.tolist()\n",
    "df = df.head()\n",
    "print(df.shape)\n",
    "# df_file = df.to_csv()\n",
    "# display(df.head())\n",
    "# df_file"
   ]
  },
  {
   "cell_type": "code",
   "execution_count": 11,
   "metadata": {},
   "outputs": [
    {
     "output_type": "display_data",
     "data": {
      "text/plain": "[{'id': '7501349020610',\n  'descripcion': 'AMIKACINA 100MG/2ML PEDIATRICO',\n  'precio': 18.0,\n  'onStock': 0.0,\n  'categorias': 'FARMACIA',\n  'subcategorias': 'ANTIBIOTICO'},\n {'id': 'FARMAT52126',\n  'descripcion': 'ABATELENGUAS',\n  'precio': 10.0,\n  'onStock': 7.0,\n  'categorias': 'FARMACIA',\n  'subcategorias': 'MATERIAL CURACIONES'},\n {'id': '780083141875',\n  'descripcion': 'GIMALXINA AMOXICILINA SUSPENSION 250MG/5ML FRASCO CON POLVO PARA 75ML',\n  'precio': 57.0,\n  'onStock': 0.0,\n  'categorias': 'FARMACIA',\n  'subcategorias': 'ANTIBIOTICO'},\n {'id': '780083141882',\n  'descripcion': 'AMOXICILINA SUSPENSION 500MG/5ML',\n  'precio': 58.0,\n  'onStock': 0.0,\n  'categorias': 'FARMACIA',\n  'subcategorias': 'ANTIBIOTICO'},\n {'id': '780083140663',\n  'descripcion': 'GIMALXINA AMOXICILINA CAPSULAS 500MG',\n  'precio': 37.0,\n  'onStock': 0.0,\n  'categorias': 'FARMACIA',\n  'subcategorias': 'ANTIBIOTICO'}]"
     },
     "metadata": {}
    }
   ],
   "source": [
    "columns = {\n",
    "        \"id\": \"CLAVE\",\n",
    "        \"descripcion\": \"DESCRIPCION\",\n",
    "        \"precio\": \"PRECIO 1\",\n",
    "        \"onStock\": \"EXIST.\",\n",
    "        \"categorias\": \"DEPARTAMENTO\",\n",
    "        \"subcategorias\": \"CATEGORIA\",\n",
    "}\n",
    "\n",
    "avalible_cols = []\n",
    "\n",
    "for key, value in columns.items():\n",
    "    df = df.rename(columns={value:key})\n",
    "    avalible_cols.append(key)\n",
    "\n",
    "product_model_list = df[avalible_cols]\n",
    "itemsJSON = product_model_list.to_json(orient=\"records\")\n",
    "display(json.loads(itemsJSON))\n",
    "avalible_cols.remove('id')\n",
    "as_details = df.drop(avalible_cols, axis=1)\n",
    "detailsJSON = as_details.to_json(orient=\"records\")\n"
   ]
  }
 ]
}