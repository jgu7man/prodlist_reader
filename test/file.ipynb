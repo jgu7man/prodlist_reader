{
 "metadata": {
  "language_info": {
   "codemirror_mode": {
    "name": "ipython",
    "version": 3
   },
   "file_extension": ".py",
   "mimetype": "text/x-python",
   "name": "python",
   "nbconvert_exporter": "python",
   "pygments_lexer": "ipython3",
   "version": "3.8.5-final"
  },
  "orig_nbformat": 2,
  "kernelspec": {
   "name": "python3",
   "display_name": "Python 3",
   "language": "python"
  }
 },
 "nbformat": 4,
 "nbformat_minor": 2,
 "cells": [
  {
   "cell_type": "code",
   "execution_count": 42,
   "metadata": {},
   "outputs": [
    {
     "output_type": "execute_result",
     "data": {
      "text/plain": [
       "                                Vendedor         Doc          Nombres  \\\n",
       "Fecha                                                                   \n",
       "2020-07-01  YOLEISY YOHANA POCHEZ PAREJO  FV R 11578  Cliente General   \n",
       "2020-07-01                           NaN  FV R 11578  Cliente General   \n",
       "2020-07-01                           NaN  FV R 11578  Cliente General   \n",
       "2020-07-01                           NaN  FV R 11578  Cliente General   \n",
       "2020-07-01                           NaN  FV R 11578  Cliente General   \n",
       "\n",
       "                             CódigoInventario  Unidades  Unitario Venta  \\\n",
       "Fecha                                                                     \n",
       "2020-07-01    10012541 DISCO SEPARADOR CLUTCH       4.0         2016.81   \n",
       "2020-07-01    10012780 CADENILLA DISTRIBUCION       1.0        15168.07   \n",
       "2020-07-01    10012919 BANDA FRENO DEL Y TRAS       1.0        12184.87   \n",
       "2020-07-01    10012919 BANDA FRENO DEL Y TRAS       2.0        11344.54   \n",
       "2020-07-01  10015076 KIT GUIAS CADENILLA DIST       1.0        17983.19   \n",
       "\n",
       "              Ventas  Costo Unitario  Total Costo   Margen  PorMargen  \n",
       "Fecha                                                                  \n",
       "2020-07-01   8067.23         1445.19      5780.78  2286.45       0.28  \n",
       "2020-07-01  15168.07        12132.58     12132.58  3035.48       0.20  \n",
       "2020-07-01  12184.87         8585.35      8585.35  3599.53       0.30  \n",
       "2020-07-01  22689.08         8585.35     17170.70  5518.38       0.24  \n",
       "2020-07-01  17983.19        13016.81     13016.81  4966.38       0.28  "
      ],
      "text/html": "<div>\n<style scoped>\n    .dataframe tbody tr th:only-of-type {\n        vertical-align: middle;\n    }\n\n    .dataframe tbody tr th {\n        vertical-align: top;\n    }\n\n    .dataframe thead th {\n        text-align: right;\n    }\n</style>\n<table border=\"1\" class=\"dataframe\">\n  <thead>\n    <tr style=\"text-align: right;\">\n      <th></th>\n      <th>Vendedor</th>\n      <th>Doc</th>\n      <th>Nombres</th>\n      <th>CódigoInventario</th>\n      <th>Unidades</th>\n      <th>Unitario Venta</th>\n      <th>Ventas</th>\n      <th>Costo Unitario</th>\n      <th>Total Costo</th>\n      <th>Margen</th>\n      <th>PorMargen</th>\n    </tr>\n    <tr>\n      <th>Fecha</th>\n      <th></th>\n      <th></th>\n      <th></th>\n      <th></th>\n      <th></th>\n      <th></th>\n      <th></th>\n      <th></th>\n      <th></th>\n      <th></th>\n      <th></th>\n    </tr>\n  </thead>\n  <tbody>\n    <tr>\n      <th>2020-07-01</th>\n      <td>YOLEISY YOHANA POCHEZ PAREJO</td>\n      <td>FV R 11578</td>\n      <td>Cliente General</td>\n      <td>10012541 DISCO SEPARADOR CLUTCH</td>\n      <td>4.0</td>\n      <td>2016.81</td>\n      <td>8067.23</td>\n      <td>1445.19</td>\n      <td>5780.78</td>\n      <td>2286.45</td>\n      <td>0.28</td>\n    </tr>\n    <tr>\n      <th>2020-07-01</th>\n      <td>NaN</td>\n      <td>FV R 11578</td>\n      <td>Cliente General</td>\n      <td>10012780 CADENILLA DISTRIBUCION</td>\n      <td>1.0</td>\n      <td>15168.07</td>\n      <td>15168.07</td>\n      <td>12132.58</td>\n      <td>12132.58</td>\n      <td>3035.48</td>\n      <td>0.20</td>\n    </tr>\n    <tr>\n      <th>2020-07-01</th>\n      <td>NaN</td>\n      <td>FV R 11578</td>\n      <td>Cliente General</td>\n      <td>10012919 BANDA FRENO DEL Y TRAS</td>\n      <td>1.0</td>\n      <td>12184.87</td>\n      <td>12184.87</td>\n      <td>8585.35</td>\n      <td>8585.35</td>\n      <td>3599.53</td>\n      <td>0.30</td>\n    </tr>\n    <tr>\n      <th>2020-07-01</th>\n      <td>NaN</td>\n      <td>FV R 11578</td>\n      <td>Cliente General</td>\n      <td>10012919 BANDA FRENO DEL Y TRAS</td>\n      <td>2.0</td>\n      <td>11344.54</td>\n      <td>22689.08</td>\n      <td>8585.35</td>\n      <td>17170.70</td>\n      <td>5518.38</td>\n      <td>0.24</td>\n    </tr>\n    <tr>\n      <th>2020-07-01</th>\n      <td>NaN</td>\n      <td>FV R 11578</td>\n      <td>Cliente General</td>\n      <td>10015076 KIT GUIAS CADENILLA DIST</td>\n      <td>1.0</td>\n      <td>17983.19</td>\n      <td>17983.19</td>\n      <td>13016.81</td>\n      <td>13016.81</td>\n      <td>4966.38</td>\n      <td>0.28</td>\n    </tr>\n  </tbody>\n</table>\n</div>"
     },
     "metadata": {},
     "execution_count": 42
    }
   ],
   "source": [
    "import pandas as pd\n",
    "import json\n",
    "\n",
    "df = pd.read_csv(\"inventario.csv\",  decimal=\".\", header=0, thousands=r\",\")\n",
    "first_column = df.columns[0]\n",
    "first_column\n",
    "\n",
    "# df = df.replace(',', '', regex=True).astype(int)\n",
    "number_cols = ['Unidades', 'Unitario Venta', 'Ventas', 'Costo Unitario', 'Total Costo', 'Margen', 'PorMargen']\n",
    "for column in number_cols:\n",
    "    df[column] = df[column].dropna().replace(',', '', regex=True).astype(float)\n",
    "\n",
    "df['Fecha'] = pd.to_datetime(df['Fecha'])\n",
    "df = df.set_index('Fecha')\n",
    "df.head()"
   ]
  }
 ]
}